{
 "cells": [
  {
   "cell_type": "markdown",
   "metadata": {},
   "source": [
    "In this exercise you will use Python's hplib library to model heat pump performance across different climates and building insulation levels with the ultimate goal of comparing air and ground source heat pumps.\n",
    "\n",
    "Note you do not need to be a programmer to do this exercise! code blocks are ready to run, and certain key variables that you can change are clearly marked in the code. simply change values after the '=' sign and press play!\n",
    "\n",
    "This exercise will lay the groundwork for economic modelling that will happen later in the course. For now the goal is to understand how key energetic metrics can be found, which will later be used as inputs to derive price comparisons"
   ]
  },
  {
   "cell_type": "code",
   "execution_count": 2,
   "metadata": {},
   "outputs": [],
   "source": [
    "# Import HPLib for heat pump performance calculations\n",
    "import hplib\n",
    "\n",
    "# Import pandas for data management and matplotlib for visualizations\n",
    "import pandas as pd\n",
    "import matplotlib.pyplot as plt"
   ]
  },
  {
   "cell_type": "markdown",
   "metadata": {},
   "source": [
    "as a first step, lets see if we can get heating demand estimates on a monthly level. There are many ways to do this and a lot of resources online. You can also just look up numbers.\n",
    "\n",
    "However, we will do this by just assuming there is a thermal energy loss per m2 per square meter is a linear function of the temperature difference between inside and outside and some insulation factor.\n",
    "\n",
    "Monthly Heat demand (kWh/m2 * month) = (Tout - Tin) * Insulation Factor"
   ]
  },
  {
   "cell_type": "code",
   "execution_count": 3,
   "metadata": {},
   "outputs": [],
   "source": [
    "# this function just returns the heat load (in kWh/m2) for a specific amount of time \n",
    "# If we enter 720 hours (one month) we will get the average value for that month\n",
    "\n",
    "def heating_demand(insulation_level, indoor_temp, outdoor_temp, area, hours):\n",
    "    # Base heat loss rate per m² at different insulation levels (in W/m²·K)\n",
    "    heat_loss_rates = {'low': 2.0, 'medium': 1.0, 'high': 0.5}\n",
    "    heat_loss_rate = heat_loss_rates[insulation_level]\n",
    "    \n",
    "    # Calculate thermal load based on temperature difference\n",
    "    thermal_load = heat_loss_rate * area * (indoor_temp - outdoor_temp)\n",
    "    \n",
    "    # Convert to kWh and multiply by hours of operation\n",
    "    return thermal_load * hours / 1000"
   ]
  },
  {
   "cell_type": "code",
   "execution_count": 5,
   "metadata": {},
   "outputs": [],
   "source": [
    "# Define insulation levels (e.g., high, medium, low insulation) in kWh/m²/month\n",
    "insulation_levels = {\n",
    "    'high': 5,  # High insulation (e.g., passive house)\n",
    "    'medium': 15,  # Medium insulation (e.g., modern building)\n",
    "    'low': 30   # Low insulation (e.g., older building)\n",
    "}\n",
    "\n",
    "# Define average monthly temperatures for different climates (Celsius). This list is represents average temper\n",
    "# over a year starting in January \n",
    "climates = {\n",
    "    'mild': [10, 8, 5, 7, 12, 15, 18, 18, 14, 10, 7, 5],  # mild, year-round\n",
    "    'cold': [-5, -3, 0, 3, 8, 12, 15, 13, 9, 5, 0, -2],   # colder winter, moderate summer\n",
    "    'very_cold': [-10, -8, -5, -2, 5, 10, 12, 10, 6, 2, -5, -8]  # very cold winter, short summer\n",
    "}\n"
   ]
  },
  {
   "cell_type": "markdown",
   "metadata": {},
   "source": [
    "now we can play with some values here and compare to something from literature.\n",
    "try changing the insulation levels and the average monthly temperatures in the code block above and hitting play (you have to hit play on the code block abova and below to refresh the numbers)"
   ]
  },
  {
   "cell_type": "code",
   "execution_count": null,
   "metadata": {},
   "outputs": [],
   "source": []
  },
  {
   "cell_type": "code",
   "execution_count": 6,
   "metadata": {},
   "outputs": [],
   "source": [
    "def calculate_cop(heat_pump_type, outdoor_temp):\n",
    "    \"\"\"\n",
    "    Calculate COP for a geothermal or air-source heat pump based on outdoor temperature.\n",
    "    `heat_pump_type`: 'geothermal' or 'air-source'\n",
    "    `outdoor_temp`: Current outdoor temperature in Celsius\n",
    "    \"\"\"\n",
    "    if heat_pump_type == 'geothermal':\n",
    "        cop = hplib.get_parameters(model='Generic_top', group_id=1, t_in=-7, t_out=40, p_th=10000)[] # Replace with actual HPLib function for geothermal\n",
    "    elif heat_pump_type == 'air-source':\n",
    "        cop = hplib.air_source_COP(outdoor_temp)  # Replace with actual HPLib function for air-source\n",
    "    return cop\n"
   ]
  },
  {
   "cell_type": "code",
   "execution_count": 7,
   "metadata": {},
   "outputs": [
    {
     "ename": "AttributeError",
     "evalue": "module 'hplib' has no attribute 'geothermal_COP'",
     "output_type": "error",
     "traceback": [
      "\u001b[0;31m---------------------------------------------------------------------------\u001b[0m",
      "\u001b[0;31mAttributeError\u001b[0m                            Traceback (most recent call last)",
      "Cell \u001b[0;32mIn[7], line 10\u001b[0m\n\u001b[1;32m      7\u001b[0m monthly_demand \u001b[38;5;241m=\u001b[39m demand  \u001b[38;5;66;03m# Demand in kWh/m²/month based on insulation level\u001b[39;00m\n\u001b[1;32m      8\u001b[0m \u001b[38;5;28;01mfor\u001b[39;00m month, temp \u001b[38;5;129;01min\u001b[39;00m \u001b[38;5;28menumerate\u001b[39m(temps):\n\u001b[1;32m      9\u001b[0m     \u001b[38;5;66;03m# Calculate COPs for both types of heat pumps\u001b[39;00m\n\u001b[0;32m---> 10\u001b[0m     cop_geo \u001b[38;5;241m=\u001b[39m \u001b[43mcalculate_cop\u001b[49m\u001b[43m(\u001b[49m\u001b[38;5;124;43m'\u001b[39;49m\u001b[38;5;124;43mgeothermal\u001b[39;49m\u001b[38;5;124;43m'\u001b[39;49m\u001b[43m,\u001b[49m\u001b[43m \u001b[49m\u001b[43mtemp\u001b[49m\u001b[43m)\u001b[49m\n\u001b[1;32m     11\u001b[0m     cop_air \u001b[38;5;241m=\u001b[39m calculate_cop(\u001b[38;5;124m'\u001b[39m\u001b[38;5;124mair-source\u001b[39m\u001b[38;5;124m'\u001b[39m, temp)\n\u001b[1;32m     13\u001b[0m     \u001b[38;5;66;03m# Calculate energy consumption based on demand and COP\u001b[39;00m\n",
      "Cell \u001b[0;32mIn[6], line 8\u001b[0m, in \u001b[0;36mcalculate_cop\u001b[0;34m(heat_pump_type, outdoor_temp)\u001b[0m\n\u001b[1;32m      2\u001b[0m \u001b[38;5;250m\u001b[39m\u001b[38;5;124;03m\"\"\"\u001b[39;00m\n\u001b[1;32m      3\u001b[0m \u001b[38;5;124;03mCalculate COP for a geothermal or air-source heat pump based on outdoor temperature.\u001b[39;00m\n\u001b[1;32m      4\u001b[0m \u001b[38;5;124;03m`heat_pump_type`: 'geothermal' or 'air-source'\u001b[39;00m\n\u001b[1;32m      5\u001b[0m \u001b[38;5;124;03m`outdoor_temp`: Current outdoor temperature in Celsius\u001b[39;00m\n\u001b[1;32m      6\u001b[0m \u001b[38;5;124;03m\"\"\"\u001b[39;00m\n\u001b[1;32m      7\u001b[0m \u001b[38;5;28;01mif\u001b[39;00m heat_pump_type \u001b[38;5;241m==\u001b[39m \u001b[38;5;124m'\u001b[39m\u001b[38;5;124mgeothermal\u001b[39m\u001b[38;5;124m'\u001b[39m:\n\u001b[0;32m----> 8\u001b[0m     cop \u001b[38;5;241m=\u001b[39m \u001b[43mhplib\u001b[49m\u001b[38;5;241;43m.\u001b[39;49m\u001b[43mgeothermal_COP\u001b[49m(outdoor_temp)  \u001b[38;5;66;03m# Replace with actual HPLib function for geothermal\u001b[39;00m\n\u001b[1;32m      9\u001b[0m \u001b[38;5;28;01melif\u001b[39;00m heat_pump_type \u001b[38;5;241m==\u001b[39m \u001b[38;5;124m'\u001b[39m\u001b[38;5;124mair-source\u001b[39m\u001b[38;5;124m'\u001b[39m:\n\u001b[1;32m     10\u001b[0m     cop \u001b[38;5;241m=\u001b[39m hplib\u001b[38;5;241m.\u001b[39mair_source_COP(outdoor_temp)  \u001b[38;5;66;03m# Replace with actual HPLib function for air-source\u001b[39;00m\n",
      "\u001b[0;31mAttributeError\u001b[0m: module 'hplib' has no attribute 'geothermal_COP'"
     ]
    }
   ],
   "source": [
    "# Initialize results dictionary\n",
    "results = []\n",
    "\n",
    "# Iterate over each insulation level and climate\n",
    "for insulation, demand in insulation_levels.items():\n",
    "    for climate, temps in climates.items():\n",
    "        monthly_demand = demand  # Demand in kWh/m²/month based on insulation level\n",
    "        for month, temp in enumerate(temps):\n",
    "            # Calculate COPs for both types of heat pumps\n",
    "            cop_geo = calculate_cop('geothermal', temp)\n",
    "            cop_air = calculate_cop('air-source', temp)\n",
    "            \n",
    "            # Calculate energy consumption based on demand and COP\n",
    "            energy_geo = monthly_demand / cop_geo\n",
    "            energy_air = monthly_demand / cop_air\n",
    "\n",
    "            # Append results\n",
    "            results.append({\n",
    "                'insulation': insulation,\n",
    "                'climate': climate,\n",
    "                'month': month + 1,\n",
    "                'temp': temp,\n",
    "                'cop_geo': cop_geo,\n",
    "                'cop_air': cop_air,\n",
    "                'energy_geo': energy_geo,\n",
    "                'energy_air': energy_air\n",
    "            })\n",
    "\n",
    "# Convert results to DataFrame for analysis and visualization\n",
    "df = pd.DataFrame(results)\n"
   ]
  },
  {
   "cell_type": "code",
   "execution_count": null,
   "metadata": {},
   "outputs": [],
   "source": [
    "# Plot energy consumption for each climate and insulation level\n",
    "for insulation in insulation_levels.keys():\n",
    "    for climate in climates.keys():\n",
    "        # Filter data for the given insulation level and climate\n",
    "        data = df[(df['insulation'] == insulation) & (df['climate'] == climate)]\n",
    "        \n",
    "        # Plot monthly energy consumption\n",
    "        plt.figure(figsize=(10, 6))\n",
    "        plt.plot(data['month'], data['energy_geo'], label='Geothermal', marker='o')\n",
    "        plt.plot(data['month'], data['energy_air'], label='Air-Source', marker='o')\n",
    "        \n",
    "        # Add plot details\n",
    "        plt.title(f'Energy Consumption ({insulation.capitalize()} Insulation, {climate.capitalize()} Climate)')\n",
    "        plt.xlabel('Month')\n",
    "        plt.ylabel('Energy Consumption (kWh/m²)')\n",
    "        plt.legend()\n",
    "        plt.grid(True)\n",
    "        plt.show()\n"
   ]
  },
  {
   "cell_type": "markdown",
   "metadata": {},
   "source": []
  }
 ],
 "metadata": {
  "kernelspec": {
   "display_name": "base",
   "language": "python",
   "name": "python3"
  },
  "language_info": {
   "codemirror_mode": {
    "name": "ipython",
    "version": 3
   },
   "file_extension": ".py",
   "mimetype": "text/x-python",
   "name": "python",
   "nbconvert_exporter": "python",
   "pygments_lexer": "ipython3",
   "version": "3.10.9"
  }
 },
 "nbformat": 4,
 "nbformat_minor": 2
}

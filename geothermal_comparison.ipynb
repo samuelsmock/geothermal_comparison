{
 "cells": [
  {
   "cell_type": "markdown",
   "metadata": {},
   "source": [
    "In this exercise you will use Python's hplib library to model heat pump performance across different climates and building insulation levels with the ultimate goal of comparing air and ground source heat pumps.\n",
    "\n",
    "Note you do not need to be a programmer to do this exercise! code blocks are ready to run, and certain key variables that you can change are clearly marked in the code. simply change values after the '=' sign and press play!\n",
    "\n",
    "This exercise will lay the groundwork for economic modelling that will happen later ibn the course. For now the goal is to understand how key energetic metrics can be found, which will later be used as inputs to derive price comparisons"
   ]
  },
  {
   "cell_type": "code",
   "execution_count": null,
   "metadata": {},
   "outputs": [],
   "source": [
    "# Import HPLib for heat pump performance calculations\n",
    "import hplib\n",
    "\n",
    "# Import pandas for data management and matplotlib for visualizations\n",
    "import pandas as pd\n",
    "import matplotlib.pyplot as plt"
   ]
  },
  {
   "cell_type": "code",
   "execution_count": null,
   "metadata": {},
   "outputs": [],
   "source": [
    "# Define insulation levels (e.g., high, medium, low insulation) in kWh/m²/month\n",
    "insulation_levels = {\n",
    "    'high': 5,  # High insulation (e.g., passive house)\n",
    "    'medium': 15,  # Medium insulation (e.g., modern building)\n",
    "    'low': 30   # Low insulation (e.g., older building)\n",
    "}\n",
    "\n",
    "# Define average monthly temperatures for different climates (Celsius). This list is represents average temper\n",
    "# over a year starting in January \n",
    "climates = {\n",
    "    'mild': [10, 8, 5, 7, 12, 15, 18, 18, 14, 10, 7, 5],  # mild, year-round\n",
    "    'cold': [-5, -3, 0, 3, 8, 12, 15, 13, 9, 5, 0, -2],   # colder winter, moderate summer\n",
    "    'very_cold': [-10, -8, -5, -2, 5, 10, 12, 10, 6, 2, -5, -8]  # very cold winter, short summer\n",
    "}\n"
   ]
  },
  {
   "cell_type": "code",
   "execution_count": null,
   "metadata": {},
   "outputs": [],
   "source": [
    "def calculate_cop(heat_pump_type, outdoor_temp):\n",
    "    \"\"\"\n",
    "    Calculate COP for a geothermal or air-source heat pump based on outdoor temperature.\n",
    "    `heat_pump_type`: 'geothermal' or 'air-source'\n",
    "    `outdoor_temp`: Current outdoor temperature in Celsius\n",
    "    \"\"\"\n",
    "    if heat_pump_type == 'geothermal':\n",
    "        cop = hplib.geothermal_COP(outdoor_temp)  # Replace with actual HPLib function for geothermal\n",
    "    elif heat_pump_type == 'air-source':\n",
    "        cop = hplib.air_source_COP(outdoor_temp)  # Replace with actual HPLib function for air-source\n",
    "    return cop\n"
   ]
  },
  {
   "cell_type": "code",
   "execution_count": null,
   "metadata": {},
   "outputs": [],
   "source": [
    "# Initialize results dictionary\n",
    "results = []\n",
    "\n",
    "# Iterate over each insulation level and climate\n",
    "for insulation, demand in insulation_levels.items():\n",
    "    for climate, temps in climates.items():\n",
    "        monthly_demand = demand  # Demand in kWh/m²/month based on insulation level\n",
    "        for month, temp in enumerate(temps):\n",
    "            # Calculate COPs for both types of heat pumps\n",
    "            cop_geo = calculate_cop('geothermal', temp)\n",
    "            cop_air = calculate_cop('air-source', temp)\n",
    "            \n",
    "            # Calculate energy consumption based on demand and COP\n",
    "            energy_geo = monthly_demand / cop_geo\n",
    "            energy_air = monthly_demand / cop_air\n",
    "\n",
    "            # Append results\n",
    "            results.append({\n",
    "                'insulation': insulation,\n",
    "                'climate': climate,\n",
    "                'month': month + 1,\n",
    "                'temp': temp,\n",
    "                'cop_geo': cop_geo,\n",
    "                'cop_air': cop_air,\n",
    "                'energy_geo': energy_geo,\n",
    "                'energy_air': energy_air\n",
    "            })\n",
    "\n",
    "# Convert results to DataFrame for analysis and visualization\n",
    "df = pd.DataFrame(results)\n"
   ]
  },
  {
   "cell_type": "code",
   "execution_count": null,
   "metadata": {},
   "outputs": [],
   "source": [
    "# Plot energy consumption for each climate and insulation level\n",
    "for insulation in insulation_levels.keys():\n",
    "    for climate in climates.keys():\n",
    "        # Filter data for the given insulation level and climate\n",
    "        data = df[(df['insulation'] == insulation) & (df['climate'] == climate)]\n",
    "        \n",
    "        # Plot monthly energy consumption\n",
    "        plt.figure(figsize=(10, 6))\n",
    "        plt.plot(data['month'], data['energy_geo'], label='Geothermal', marker='o')\n",
    "        plt.plot(data['month'], data['energy_air'], label='Air-Source', marker='o')\n",
    "        \n",
    "        # Add plot details\n",
    "        plt.title(f'Energy Consumption ({insulation.capitalize()} Insulation, {climate.capitalize()} Climate)')\n",
    "        plt.xlabel('Month')\n",
    "        plt.ylabel('Energy Consumption (kWh/m²)')\n",
    "        plt.legend()\n",
    "        plt.grid(True)\n",
    "        plt.show()\n"
   ]
  },
  {
   "cell_type": "markdown",
   "metadata": {},
   "source": []
  }
 ],
 "metadata": {
  "language_info": {
   "name": "python"
  }
 },
 "nbformat": 4,
 "nbformat_minor": 2
}
